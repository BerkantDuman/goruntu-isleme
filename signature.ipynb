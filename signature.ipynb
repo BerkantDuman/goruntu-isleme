{
 "cells": [
  {
   "cell_type": "code",
   "execution_count": 1,
   "metadata": {},
   "outputs": [],
   "source": [
    "import pandas as pd\n",
    "import os\n",
    "from sklearn.datasets import fetch_openml\n",
    "import numpy as np\n",
    "import matplotlib.pyplot as plt\n",
    "%matplotlib inline\n",
    "import matplotlib\n",
    "from sklearn.metrics import classification_report, confusion_matrix\n",
    "from sklearn.model_selection import train_test_split"
   ]
  },
  {
   "cell_type": "code",
   "execution_count": 2,
   "metadata": {},
   "outputs": [],
   "source": [
    "def convert_rgb_gray_level(img):\n",
    "    m =img.shape[0]\n",
    "    n =img.shape[1]\n",
    "    im_1 = np.zeros((m,n))\n",
    "    for i in range(m):\n",
    "        for j in range(n):\n",
    "            im_1[i,j]=get_distance(img[i,j,:])\n",
    "    return im_1\n",
    "def get_distance(v, w=[1/3,1/3,1/3]):\n",
    "    a,b,c = v[0], v[1], v[2]\n",
    "    w1,w2,w3 = w[0], w[1], w[2]\n",
    "    d = ((a**2)*w1 +\n",
    "         (b**2)*w2 +\n",
    "         (c**2)*w3)**.5\n",
    "    return int(d)"
   ]
  },
  {
   "cell_type": "code",
   "execution_count": 4,
   "metadata": {},
   "outputs": [],
   "source": [
    "from sklearn.model_selection import train_test_split\n",
    "from sklearn import neighbors, datasets, preprocessing\n",
    "from sklearn.metrics import accuracy_score\n",
    "from skimage.io import imread\n",
    "from skimage.transform import resize\n",
    "from sklearn import svm, metrics, datasets\n",
    "from sklearn.model_selection import GridSearchCV, train_test_split\n",
    "from sklearn.neural_network import MLPClassifier\n",
    "from sklearn.preprocessing import LabelBinarizer, LabelEncoder\n",
    "from scipy import sparse\n",
    "from sklearn.multiclass import OneVsRestClassifier\n",
    "from sklearn.metrics import multilabel_confusion_matrix, confusion_matrix"
   ]
  },
  {
   "cell_type": "code",
   "execution_count": 5,
   "metadata": {},
   "outputs": [],
   "source": [
    "signatures = []\n",
    "target = []\n",
    "flat_data = []\n",
    "all_signatures = [\"170401025\",\"170401016\",\"170401011\", \"160401048\",\"160401050\"]\n",
    "for i in all_signatures:\n",
    "    for sig in os.listdir(i):\n",
    "        img = convert_rgb_gray_level(plt.imread(i+\"/\" + sig))\n",
    "        resized = resize(img, (200,200), anti_aliasing=True, mode='reflect')\n",
    "        flat_data.append(resized.flatten()) \n",
    "        signatures.append(resized)\n",
    "        target.append(i)\n",
    "flat_data = np.array(flat_data)\n",
    "target = np.array(target)"
   ]
  },
  {
   "cell_type": "code",
   "execution_count": 6,
   "metadata": {},
   "outputs": [],
   "source": [
    "y_dense = LabelBinarizer().fit_transform(target)\n",
    "#y_sparse = sparse.csr_matrix(y_dense)\n"
   ]
  },
  {
   "cell_type": "code",
   "execution_count": 11,
   "metadata": {},
   "outputs": [],
   "source": [
    "X_train, X_test, y_train, y_test = train_test_split(\n",
    "    flat_data, y_dense, test_size=0.3,random_state=109)"
   ]
  },
  {
   "cell_type": "code",
   "execution_count": 12,
   "metadata": {},
   "outputs": [],
   "source": [
    "clf = MLPClassifier(solver='lbfgs', alpha=1e-5, hidden_layer_sizes=(15,), random_state=1).fit(X_train, y_train)"
   ]
  },
  {
   "cell_type": "code",
   "execution_count": 13,
   "metadata": {},
   "outputs": [],
   "source": [
    "y_pred = clf.predict(X_test)"
   ]
  },
  {
   "cell_type": "code",
   "execution_count": 14,
   "metadata": {},
   "outputs": [
    {
     "name": "stdout",
     "output_type": "stream",
     "text": [
      "Classification report for - \n",
      "MLPClassifier(alpha=1e-05, hidden_layer_sizes=(15,), random_state=1,\n",
      "              solver='lbfgs'):\n",
      "              precision    recall  f1-score   support\n",
      "\n",
      "           0       0.92      1.00      0.96        11\n",
      "           1       1.00      0.73      0.84        11\n",
      "           2       1.00      1.00      1.00         7\n",
      "           3       1.00      0.78      0.88         9\n",
      "           4       0.86      0.75      0.80         8\n",
      "\n",
      "   micro avg       0.95      0.85      0.90        46\n",
      "   macro avg       0.95      0.85      0.89        46\n",
      "weighted avg       0.96      0.85      0.89        46\n",
      " samples avg       0.84      0.85      0.84        46\n",
      "\n",
      "\n"
     ]
    },
    {
     "name": "stderr",
     "output_type": "stream",
     "text": [
      "/opt/anaconda/2020.10/lib/python3.8/site-packages/sklearn/metrics/_classification.py:1221: UndefinedMetricWarning: Precision and F-score are ill-defined and being set to 0.0 in samples with no predicted labels. Use `zero_division` parameter to control this behavior.\n",
      "  _warn_prf(average, modifier, msg_start, len(result))\n"
     ]
    }
   ],
   "source": [
    "print(\"Classification report for - \\n{}:\\n{}\\n\".format(\n",
    "    clf, metrics.classification_report(y_test, y_pred)))"
   ]
  },
  {
   "cell_type": "code",
   "execution_count": 15,
   "metadata": {},
   "outputs": [
    {
     "data": {
      "text/plain": [
       "array([[[34,  1],\n",
       "        [ 0, 11]],\n",
       "\n",
       "       [[35,  0],\n",
       "        [ 3,  8]],\n",
       "\n",
       "       [[39,  0],\n",
       "        [ 0,  7]],\n",
       "\n",
       "       [[37,  0],\n",
       "        [ 2,  7]],\n",
       "\n",
       "       [[37,  1],\n",
       "        [ 2,  6]]])"
      ]
     },
     "execution_count": 15,
     "metadata": {},
     "output_type": "execute_result"
    }
   ],
   "source": [
    "multilabel_confusion_matrix(y_test, y_pred)"
   ]
  },
  {
   "cell_type": "markdown",
   "metadata": {},
   "source": [
    "### İmzalar\n",
    "    [0, 0, 0, 0, 1] = \"170401025\"\n",
    "    [0, 0, 0, 1, 0] = \"170401016\"\n",
    "    [0, 0, 1, 0, 0] = \"170401011\"\n",
    "    [0, 1, 0, 0, 0] = \"160401050\"\n",
    "    [1, 0, 0, 0, 0] = \"160401048\" BENİM İMZAM"
   ]
  },
  {
   "cell_type": "code",
   "execution_count": 18,
   "metadata": {},
   "outputs": [
    {
     "data": {
      "text/plain": [
       "array([[1, 0, 0, 0, 0]])"
      ]
     },
     "execution_count": 18,
     "metadata": {},
     "output_type": "execute_result"
    },
    {
     "data": {
      "image/png": "[encoded data removed]",
      "text/plain": [
       "<Figure size 432x288 with 1 Axes>"
      ]
     },
     "metadata": {
      "needs_background": "light"
     },
     "output_type": "display_data"
    }
   ],
   "source": [
    "index = 95\n",
    "y_pred = clf.predict([flat_data[index]])\n",
    "plt.imshow(signatures[index], cmap=\"gray\")\n",
    "y_pred"
   ]
  },
  {
   "cell_type": "code",
   "execution_count": 20,
   "metadata": {},
   "outputs": [
    {
     "name": "stdout",
     "output_type": "stream",
     "text": [
      "91 [1 0 0 0 0] [1 0 0 0 0]\n",
      "92 [1 0 0 0 0] [1 0 0 0 0]\n",
      "93 [1 0 0 0 0] [1 0 0 0 0]\n",
      "94 [1 0 0 0 0] [1 0 0 0 0]\n",
      "95 [1 0 0 0 0] [1 0 0 0 0]\n",
      "96 [1 0 0 0 0] [1 0 0 0 0]\n",
      "97 [1 0 0 0 0] [1 0 0 0 0]\n",
      "98 [1 0 0 0 0] [1 0 0 0 0]\n",
      "99 [1 0 0 0 0] [1 0 0 0 0]\n",
      "100 [1 0 0 0 0] [1 0 0 0 0]\n",
      "101 [1 0 0 0 0] [1 0 0 0 0]\n",
      "102 [1 0 0 0 0] [1 0 0 0 0]\n",
      "103 [1 0 0 0 0] [1 0 0 0 0]\n",
      "104 [1 0 0 0 0] [1 0 0 0 0]\n",
      "105 [1 0 0 0 0] [1 0 0 0 0]\n",
      "106 [1 0 0 0 0] [1 0 0 0 0]\n",
      "107 [1 0 0 0 0] [1 0 0 0 0]\n",
      "108 [1 0 0 0 0] [1 0 0 0 0]\n",
      "109 [1 0 0 0 0] [1 0 0 0 0]\n",
      "110 [1 0 0 0 0] [1 0 0 0 0]\n",
      "111 [1 0 0 0 0] [1 0 0 0 0]\n",
      "112 [1 0 0 0 0] [1 0 0 0 0]\n",
      "113 [1 0 0 0 0] [1 0 0 0 0]\n",
      "114 [1 0 0 0 0] [1 0 0 0 0]\n",
      "115 [1 0 0 0 0] [1 0 0 0 0]\n",
      "116 [1 0 0 0 0] [1 0 0 0 0]\n",
      "117 [1 0 0 0 0] [1 0 0 0 0]\n",
      "118 [1 0 0 0 0] [1 0 0 0 0]\n",
      "119 [1 0 0 0 0] [1 0 0 0 0]\n",
      "120 [1 0 0 0 0] [1 0 0 0 0]\n"
     ]
    }
   ],
   "source": [
    "for i in range(91,121):\n",
    "    pred = clf.predict([flat_data[i]])\n",
    "    print(i,y_pred[0], pred[0])\n"
   ]
  },
  {
   "cell_type": "markdown",
   "metadata": {},
   "source": [
    "## İmza verisi\n",
    "    Hesaplamalar sonucu görüldüğü üzere model benim imzalarımın tümünü doğru şekilde tahmin edebiliyor."
   ]
  },
  {
   "cell_type": "code",
   "execution_count": null,
   "metadata": {},
   "outputs": [],
   "source": []
  }
 ],
 "metadata": {
  "kernelspec": {
   "display_name": "Python 3",
   "language": "python",
   "name": "python3"
  },
  "language_info": {
   "codemirror_mode": {
    "name": "ipython",
    "version": 3
   },
   "file_extension": ".py",
   "mimetype": "text/x-python",
   "name": "python",
   "nbconvert_exporter": "python",
   "pygments_lexer": "ipython3",
   "version": "3.8.3"
  }
 },
 "nbformat": 4,
 "nbformat_minor": 4
}

{
 "cells": [
  {
   "cell_type": "markdown",
   "metadata": {},
   "source": [
    "### Perceptron"
   ]
  },
  {
   "cell_type": "code",
   "execution_count": 1,
   "metadata": {},
   "outputs": [],
   "source": [
    "import numpy as np"
   ]
  },
  {
   "cell_type": "code",
   "execution_count": 28,
   "metadata": {},
   "outputs": [],
   "source": [
    "class Perceptron(object):\n",
    "    def __init__(self, input_size, lr=1, epochs=10):\n",
    "        self.W = np.zeros(input_size+1)\n",
    "        self.epochs = epochs\n",
    "        self.lr = lr\n",
    "    def activation(self, x):\n",
    "        return 1 if x >= 0 else 0\n",
    "    def predict(self, x):\n",
    "        x = np.insert(x, 0, 1)\n",
    "        z = self.W.T.dot(x)\n",
    "        a = self.activation(z)\n",
    "        return a\n",
    "    def fit(self, X, d):\n",
    "        for _ in range(self.epochs):\n",
    "            for i in range(d.shape[0]):\n",
    "                y = self.predict(X[i])\n",
    "                e = d[i] - y\n",
    "                self.W = self.W + self.lr * e * np.insert(X[i], 0, 1)"
   ]
  },
  {
   "cell_type": "code",
   "execution_count": 29,
   "metadata": {},
   "outputs": [
    {
     "data": {
      "text/plain": [
       "0"
      ]
     },
     "execution_count": 29,
     "metadata": {},
     "output_type": "execute_result"
    }
   ],
   "source": [
    "mp = Perceptron(5)\n",
    "mp.activation(-10)"
   ]
  },
  {
   "cell_type": "code",
   "execution_count": 30,
   "metadata": {},
   "outputs": [
    {
     "data": {
      "text/plain": [
       "array([0., 0., 0., 0., 0., 0.])"
      ]
     },
     "execution_count": 30,
     "metadata": {},
     "output_type": "execute_result"
    }
   ],
   "source": [
    "mp.W"
   ]
  },
  {
   "cell_type": "code",
   "execution_count": 31,
   "metadata": {},
   "outputs": [
    {
     "data": {
      "text/plain": [
       "1"
      ]
     },
     "execution_count": 31,
     "metadata": {},
     "output_type": "execute_result"
    }
   ],
   "source": [
    "x = np.asarray([1,2,3,4,5])\n",
    "mp.predict(x)"
   ]
  },
  {
   "cell_type": "code",
   "execution_count": 32,
   "metadata": {},
   "outputs": [
    {
     "data": {
      "text/plain": [
       "1"
      ]
     },
     "execution_count": 32,
     "metadata": {},
     "output_type": "execute_result"
    }
   ],
   "source": [
    "x = np.asarray([-1,2,-3,4,-5])\n",
    "mp.predict(x)"
   ]
  },
  {
   "cell_type": "code",
   "execution_count": 33,
   "metadata": {},
   "outputs": [
    {
     "name": "stdout",
     "output_type": "stream",
     "text": [
      "[-3.  2.  1.]\n"
     ]
    }
   ],
   "source": [
    "X = np.array([[0,0], [0,1], [1,0], [1,1]])\n",
    "d = np.array([0,0,0,1])\n",
    "perceptron = Perceptron(input_size = 2)\n",
    "perceptron.fit(X, d)\n",
    "print(perceptron.W)"
   ]
  },
  {
   "cell_type": "code",
   "execution_count": 35,
   "metadata": {},
   "outputs": [
    {
     "data": {
      "text/plain": [
       "1"
      ]
     },
     "execution_count": 35,
     "metadata": {},
     "output_type": "execute_result"
    }
   ],
   "source": [
    "perceptron.predict(np.array([1,1]))"
   ]
  },
  {
   "cell_type": "code",
   "execution_count": 36,
   "metadata": {},
   "outputs": [
    {
     "name": "stdout",
     "output_type": "stream",
     "text": [
      "[ 0. -1.  0.]\n"
     ]
    }
   ],
   "source": [
    "#XOR için yapılan çalışma\n",
    "X = np.array([[0,0], [0,1], [1,0], [1,1]])\n",
    "d = np.array([0,1,1,0])\n",
    "perceptron_2 = Perceptron(input_size = 2)\n",
    "perceptron_2.fit(X, d)\n",
    "print(perceptron_2.W)"
   ]
  },
  {
   "cell_type": "code",
   "execution_count": 43,
   "metadata": {},
   "outputs": [
    {
     "data": {
      "text/plain": [
       "0"
      ]
     },
     "execution_count": 43,
     "metadata": {},
     "output_type": "execute_result"
    }
   ],
   "source": [
    "perceptron_2.predict(np.array([1,0])) #Hatalı sonuç verdi"
   ]
  },
  {
   "cell_type": "markdown",
   "metadata": {},
   "source": [
    "#### Fonksiyonlar\n",
    "    Activasyon: fonksiyonu outputları sınıflandırmamıza yarıyor. Yaptığımız işlemler sonucu çıkan değerin hangi sınıfta yer aldığını belirliyoruz\n",
    "    \n",
    "    Predict: fonksiyonu eğittiğimiz modelle verilen girdinin, sonucunu tahmin etmemizi sağlar\n",
    "    \n",
    "    Fit: model için en uygun W değelerini hesapladığımız fonksiyondur, yani modeli eğittiğimiz fonksiyon\n",
    "    \n",
    "\n",
    "#### 40 imza\n",
    "    Her öğrencinin belli sayıda imzalarını alınır örneğin; Her öğrenciden 3 imza bu bizim X değişkenimiz olur. d ise bu aldığımız her 3 imzanın hangi öğrenciye ait olduğunu tuttuğumuz bir değişken olur.\n",
    "\n",
    "    x1 = öğrenci\n",
    "    X = [ [x1_imza_1,  x1_imza_2,  x1_imza_3] ]\n",
    "    d = [x1]\n",
    "\n",
    "    Tahmin etmek istediğimiz öğrencinin bir imzasını alır predict fonsiyonuna aktarırız, predict fonksiyonu bize verilen imzanın hangi öğrenciye ait olduğunu tahmin eder.\n",
    "\n",
    "### Error\n",
    "    Veri kümemizde 10 adet veri varsa bunların 3'ünü test için 7'sini eğitim amaçlı olarak kullanabiliriz. 7'si ile perceptron'u eğitiriz, sonucu bildiğimiz 3 veriyi perceptron kullanarak tahmin ettiririz. Sonucunu bildiğimiz gerçek verilerle, perceptron'un sonuçlarını karşılaştırarak model hatasını elde edebiliriz."
   ]
  },
  {
   "cell_type": "code",
   "execution_count": null,
   "metadata": {},
   "outputs": [],
   "source": []
  }
 ],
 "metadata": {
  "kernelspec": {
   "display_name": "Python 3",
   "language": "python",
   "name": "python3"
  },
  "language_info": {
   "codemirror_mode": {
    "name": "ipython",
    "version": 3
   },
   "file_extension": ".py",
   "mimetype": "text/x-python",
   "name": "python",
   "nbconvert_exporter": "python",
   "pygments_lexer": "ipython3",
   "version": "3.8.3"
  }
 },
 "nbformat": 4,
 "nbformat_minor": 4
}
